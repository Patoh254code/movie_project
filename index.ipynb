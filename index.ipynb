{
 "cells": [
  {
   "cell_type": "markdown",
   "id": "26134edf",
   "metadata": {},
   "source": [
    "# **Project Title: Risk Assessment for the Establishment and Operations Of a Movie Studio**\n",
    "\n",
    "# ****Author: GROUP 8****"
   ]
  },
  {
   "cell_type": "markdown",
   "id": "a5c38afc",
   "metadata": {},
   "source": [
    "## **Step 1: Business Understanding** \n",
    "The company aims to diversify its operations by venturing into the competitive film production industry by creating original video content. However, due to lack of experience in movie production, they require data-driven insights to identify successful movie trends at the box office in the current market.\n",
    "\n",
    "### ****Challenges****\n",
    "The company lacks experience in the film industry, has uncertainity about the necessities of the industry like best genre, producer and production strategies that resonate with the audience and has no information on the financial risk associated with film idustry that it may face\n",
    "\n",
    "### ****Proposed Solution****\n",
    "Analyze historical box office data to identify information and patterns like genres, budgets, release timing, franchises in successful films. Then provide actionable recommendations to guide the company on the things to prioritize and the studio content strategy to adopt.\n",
    "\n",
    "### ****Conclusion****\n",
    "By leveraging data analysis, the company can identify successful and failure patterns inorder to adopt the right strategy, mitigate risks and align its film production with market demand.\n",
    "\n",
    "### ****Problem Statement****\n",
    "The company aims to establish a new movie studio to capitalize on the growing demand for original video content. However, due to lack of experience in the film industry, uncertainty over the type of production to venture into and lack of info on the finacial risk, the studio faces significant challenges in determining which types of movies are most likely to succeed.\n",
    "\n",
    "### ****Objectives****\n",
    "1. To analyze historical box office data to identify trends in successful films\n",
    "2. To determine the relationship between production budget and revenue\n",
    "3. To compare audience and critic ratings\n",
    "4. To provide actionable recommendations on best film production strategies\n"
   ]
  },
  {
   "cell_type": "markdown",
   "id": "c64b42fe",
   "metadata": {},
   "source": [
    "## **Step 2: Data Undertanding**\n",
    "\n",
    "### ****Data Source****\n",
    "The folder zippedData contains historical box office data scrapped from https://www.boxofficemojo.com/, https://www.imdb.com/, https://www.rottentomatoes.com/, https://www.themoviedb.org/, https://www.the-numbers.com/ that will be used for this analysis, detailing all relevant information about film industry, including the movie genres, their budget, revenue, producers, release date and reviews.\n",
    "\n",
    "### **column description**\n",
    "1. genres\n",
    "\n",
    "   Type: Categorical\n",
    "\n",
    "   Description: The primary category/categories of the film (e.g., Action, Comedy, Drama, Animation).\n",
    "\n",
    "2. production_budget\n",
    "\n",
    "   Type: Numerical\n",
    "\n",
    "   Description: Total production cost of the film in USD.\n",
    "\n",
    "3. domestic_gross/worldwide_gross\n",
    "\n",
    "   Type: Numerical\n",
    "\n",
    "   Description: Total box office earnings in USD.\n",
    "\n",
    "4. release_date\t\n",
    "\n",
    "   Type: Categorical\n",
    "\n",
    "   Description: Month the film was released\n",
    "\n",
    "5. runtime_minutes\n",
    "\n",
    "   Type: Numerical\n",
    "\n",
    "   Description: Duration of the film in minutes.\n",
    "\n",
    "6. averagerating\n",
    "   \n",
    "   Type: Numerical\n",
    "   \n",
    "   Description: Audience or critic aggregate score\n"
   ]
  },
  {
   "cell_type": "code",
   "execution_count": 4,
   "id": "26900a8c",
   "metadata": {},
   "outputs": [],
   "source": [
    "# import relevant libraries\n",
    "import pandas as pd\n",
    "import numpy as np\n",
    "import sqlite3 \n",
    "import matplotlib.pyplot as plt\n",
    "%matplotlib inline\n",
    "import seaborn as sns\n",
    "import zipfile\n",
    "import tempfile\n",
    "import os"
   ]
  },
  {
   "cell_type": "code",
   "execution_count": 5,
   "id": "90f0931f",
   "metadata": {},
   "outputs": [],
   "source": [
    "# loading the datasets\n",
    "bom = pd.read_csv('zippedData/bom.movie_gross.csv.gz')\n",
    "rt_info = pd.read_csv(\"zippedData/rt.movie_info.tsv.gz\", sep='\\t')\n",
    "rt_reviews = pd.read_csv(\"zippedData/rt.reviews.tsv.gz\", sep='\\t', encoding='latin1')\n",
    "movie_DB = pd.read_csv(\"zippedData/tmdb.movies.csv.gz\")\n",
    "numbers = pd.read_csv(\"zippedData/tn.movie_budgets.csv.gz\")\n",
    "\n",
    "# Extract the .db file from the ZIP\n",
    "# with zipfile.ZipFile(\"zippedData/im.db.zip\", 'r') as zip_ref:\n",
    "#     # Extract to subfolder\n",
    "#     zip_ref.extract(\"im.db\", path=\"zippedData/extracted\")  \n",
    "\n",
    "# Extract the .db file from the ZIP\n",
    "with tempfile.NamedTemporaryFile(delete=False) as tmp_file:\n",
    "    with zipfile.ZipFile(\"zippedData/im.db.zip\", 'r') as zip_ref:\n",
    "        tmp_file.write(zip_ref.read(\"im.db\"))\n",
    "\n",
    "# # Connect to the extracted database\n",
    "conn = sqlite3.connect(tmp_file.name)  # Path to extracted file\n",
    "\n",
    "# Run your query\n",
    "q = \"\"\"\n",
    "SELECT *\n",
    "FROM movie_basics\n",
    "JOIN movie_ratings USING (movie_id)\n",
    "\"\"\"\n",
    "imdb = pd.read_sql(q, conn)\n",
    "\n",
    "# Close connection\n",
    "conn.close()"
   ]
  },
  {
   "cell_type": "code",
   "execution_count": 6,
   "id": "9e70c835",
   "metadata": {},
   "outputs": [
    {
     "data": {
      "text/html": [
       "<div>\n",
       "<style scoped>\n",
       "    .dataframe tbody tr th:only-of-type {\n",
       "        vertical-align: middle;\n",
       "    }\n",
       "\n",
       "    .dataframe tbody tr th {\n",
       "        vertical-align: top;\n",
       "    }\n",
       "\n",
       "    .dataframe thead th {\n",
       "        text-align: right;\n",
       "    }\n",
       "</style>\n",
       "<table border=\"1\" class=\"dataframe\">\n",
       "  <thead>\n",
       "    <tr style=\"text-align: right;\">\n",
       "      <th></th>\n",
       "      <th>title</th>\n",
       "      <th>studio</th>\n",
       "      <th>domestic_gross</th>\n",
       "      <th>foreign_gross</th>\n",
       "      <th>year</th>\n",
       "    </tr>\n",
       "  </thead>\n",
       "  <tbody>\n",
       "    <tr>\n",
       "      <th>0</th>\n",
       "      <td>Toy Story 3</td>\n",
       "      <td>BV</td>\n",
       "      <td>415000000.0</td>\n",
       "      <td>652000000</td>\n",
       "      <td>2010</td>\n",
       "    </tr>\n",
       "    <tr>\n",
       "      <th>1</th>\n",
       "      <td>Alice in Wonderland (2010)</td>\n",
       "      <td>BV</td>\n",
       "      <td>334200000.0</td>\n",
       "      <td>691300000</td>\n",
       "      <td>2010</td>\n",
       "    </tr>\n",
       "    <tr>\n",
       "      <th>2</th>\n",
       "      <td>Harry Potter and the Deathly Hallows Part 1</td>\n",
       "      <td>WB</td>\n",
       "      <td>296000000.0</td>\n",
       "      <td>664300000</td>\n",
       "      <td>2010</td>\n",
       "    </tr>\n",
       "    <tr>\n",
       "      <th>3</th>\n",
       "      <td>Inception</td>\n",
       "      <td>WB</td>\n",
       "      <td>292600000.0</td>\n",
       "      <td>535700000</td>\n",
       "      <td>2010</td>\n",
       "    </tr>\n",
       "    <tr>\n",
       "      <th>4</th>\n",
       "      <td>Shrek Forever After</td>\n",
       "      <td>P/DW</td>\n",
       "      <td>238700000.0</td>\n",
       "      <td>513900000</td>\n",
       "      <td>2010</td>\n",
       "    </tr>\n",
       "  </tbody>\n",
       "</table>\n",
       "</div>"
      ],
      "text/plain": [
       "                                         title studio  domestic_gross  \\\n",
       "0                                  Toy Story 3     BV     415000000.0   \n",
       "1                   Alice in Wonderland (2010)     BV     334200000.0   \n",
       "2  Harry Potter and the Deathly Hallows Part 1     WB     296000000.0   \n",
       "3                                    Inception     WB     292600000.0   \n",
       "4                          Shrek Forever After   P/DW     238700000.0   \n",
       "\n",
       "  foreign_gross  year  \n",
       "0     652000000  2010  \n",
       "1     691300000  2010  \n",
       "2     664300000  2010  \n",
       "3     535700000  2010  \n",
       "4     513900000  2010  "
      ]
     },
     "execution_count": 6,
     "metadata": {},
     "output_type": "execute_result"
    }
   ],
   "source": [
    "# Display the first 5 rows\n",
    "bom.head()"
   ]
  },
  {
   "cell_type": "code",
   "execution_count": 7,
   "id": "5c66cffd",
   "metadata": {},
   "outputs": [
    {
     "name": "stdout",
     "output_type": "stream",
     "text": [
      "<class 'pandas.core.frame.DataFrame'>\n",
      "RangeIndex: 3387 entries, 0 to 3386\n",
      "Data columns (total 5 columns):\n",
      " #   Column          Non-Null Count  Dtype  \n",
      "---  ------          --------------  -----  \n",
      " 0   title           3387 non-null   object \n",
      " 1   studio          3382 non-null   object \n",
      " 2   domestic_gross  3359 non-null   float64\n",
      " 3   foreign_gross   2037 non-null   object \n",
      " 4   year            3387 non-null   int64  \n",
      "dtypes: float64(1), int64(1), object(3)\n",
      "memory usage: 132.4+ KB\n"
     ]
    }
   ],
   "source": [
    "# get info summary of the dataset\n",
    "bom.info()"
   ]
  },
  {
   "cell_type": "markdown",
   "id": "5143053e",
   "metadata": {},
   "source": [
    "Box office mojo dataset has 3387 rows. From this, it can be seen that the columns studio, domestic_gross and foreign_gross have missing values."
   ]
  },
  {
   "cell_type": "code",
   "execution_count": 8,
   "id": "644ca665",
   "metadata": {},
   "outputs": [
    {
     "data": {
      "text/html": [
       "<div>\n",
       "<style scoped>\n",
       "    .dataframe tbody tr th:only-of-type {\n",
       "        vertical-align: middle;\n",
       "    }\n",
       "\n",
       "    .dataframe tbody tr th {\n",
       "        vertical-align: top;\n",
       "    }\n",
       "\n",
       "    .dataframe thead th {\n",
       "        text-align: right;\n",
       "    }\n",
       "</style>\n",
       "<table border=\"1\" class=\"dataframe\">\n",
       "  <thead>\n",
       "    <tr style=\"text-align: right;\">\n",
       "      <th></th>\n",
       "      <th>movie_id</th>\n",
       "      <th>primary_title</th>\n",
       "      <th>original_title</th>\n",
       "      <th>start_year</th>\n",
       "      <th>runtime_minutes</th>\n",
       "      <th>genres</th>\n",
       "      <th>averagerating</th>\n",
       "      <th>numvotes</th>\n",
       "    </tr>\n",
       "  </thead>\n",
       "  <tbody>\n",
       "    <tr>\n",
       "      <th>0</th>\n",
       "      <td>tt0063540</td>\n",
       "      <td>Sunghursh</td>\n",
       "      <td>Sunghursh</td>\n",
       "      <td>2013</td>\n",
       "      <td>175.0</td>\n",
       "      <td>Action,Crime,Drama</td>\n",
       "      <td>7.0</td>\n",
       "      <td>77</td>\n",
       "    </tr>\n",
       "    <tr>\n",
       "      <th>1</th>\n",
       "      <td>tt0066787</td>\n",
       "      <td>One Day Before the Rainy Season</td>\n",
       "      <td>Ashad Ka Ek Din</td>\n",
       "      <td>2019</td>\n",
       "      <td>114.0</td>\n",
       "      <td>Biography,Drama</td>\n",
       "      <td>7.2</td>\n",
       "      <td>43</td>\n",
       "    </tr>\n",
       "    <tr>\n",
       "      <th>2</th>\n",
       "      <td>tt0069049</td>\n",
       "      <td>The Other Side of the Wind</td>\n",
       "      <td>The Other Side of the Wind</td>\n",
       "      <td>2018</td>\n",
       "      <td>122.0</td>\n",
       "      <td>Drama</td>\n",
       "      <td>6.9</td>\n",
       "      <td>4517</td>\n",
       "    </tr>\n",
       "    <tr>\n",
       "      <th>3</th>\n",
       "      <td>tt0069204</td>\n",
       "      <td>Sabse Bada Sukh</td>\n",
       "      <td>Sabse Bada Sukh</td>\n",
       "      <td>2018</td>\n",
       "      <td>NaN</td>\n",
       "      <td>Comedy,Drama</td>\n",
       "      <td>6.1</td>\n",
       "      <td>13</td>\n",
       "    </tr>\n",
       "    <tr>\n",
       "      <th>4</th>\n",
       "      <td>tt0100275</td>\n",
       "      <td>The Wandering Soap Opera</td>\n",
       "      <td>La Telenovela Errante</td>\n",
       "      <td>2017</td>\n",
       "      <td>80.0</td>\n",
       "      <td>Comedy,Drama,Fantasy</td>\n",
       "      <td>6.5</td>\n",
       "      <td>119</td>\n",
       "    </tr>\n",
       "  </tbody>\n",
       "</table>\n",
       "</div>"
      ],
      "text/plain": [
       "    movie_id                    primary_title              original_title  \\\n",
       "0  tt0063540                        Sunghursh                   Sunghursh   \n",
       "1  tt0066787  One Day Before the Rainy Season             Ashad Ka Ek Din   \n",
       "2  tt0069049       The Other Side of the Wind  The Other Side of the Wind   \n",
       "3  tt0069204                  Sabse Bada Sukh             Sabse Bada Sukh   \n",
       "4  tt0100275         The Wandering Soap Opera       La Telenovela Errante   \n",
       "\n",
       "   start_year  runtime_minutes                genres  averagerating  numvotes  \n",
       "0        2013            175.0    Action,Crime,Drama            7.0        77  \n",
       "1        2019            114.0       Biography,Drama            7.2        43  \n",
       "2        2018            122.0                 Drama            6.9      4517  \n",
       "3        2018              NaN          Comedy,Drama            6.1        13  \n",
       "4        2017             80.0  Comedy,Drama,Fantasy            6.5       119  "
      ]
     },
     "execution_count": 8,
     "metadata": {},
     "output_type": "execute_result"
    }
   ],
   "source": [
    "# Display the first 5 rows\n",
    "imdb.head()"
   ]
  },
  {
   "cell_type": "code",
   "execution_count": 9,
   "id": "cd9596dc",
   "metadata": {},
   "outputs": [
    {
     "name": "stdout",
     "output_type": "stream",
     "text": [
      "<class 'pandas.core.frame.DataFrame'>\n",
      "RangeIndex: 73856 entries, 0 to 73855\n",
      "Data columns (total 8 columns):\n",
      " #   Column           Non-Null Count  Dtype  \n",
      "---  ------           --------------  -----  \n",
      " 0   movie_id         73856 non-null  object \n",
      " 1   primary_title    73856 non-null  object \n",
      " 2   original_title   73856 non-null  object \n",
      " 3   start_year       73856 non-null  int64  \n",
      " 4   runtime_minutes  66236 non-null  float64\n",
      " 5   genres           73052 non-null  object \n",
      " 6   averagerating    73856 non-null  float64\n",
      " 7   numvotes         73856 non-null  int64  \n",
      "dtypes: float64(2), int64(2), object(4)\n",
      "memory usage: 4.5+ MB\n"
     ]
    }
   ],
   "source": [
    "# get info summary of the dataset\n",
    "imdb.info()"
   ]
  },
  {
   "cell_type": "markdown",
   "id": "ec90bca7",
   "metadata": {},
   "source": [
    "From the movie_basics and movie_ratings tables form IMDB sqlite file extracted, the final joined contains 73856 rows. It can be seen that columns runtime_minutes and genres contains missing values"
   ]
  },
  {
   "cell_type": "code",
   "execution_count": 10,
   "id": "1f77fc2b",
   "metadata": {},
   "outputs": [
    {
     "data": {
      "text/html": [
       "<div>\n",
       "<style scoped>\n",
       "    .dataframe tbody tr th:only-of-type {\n",
       "        vertical-align: middle;\n",
       "    }\n",
       "\n",
       "    .dataframe tbody tr th {\n",
       "        vertical-align: top;\n",
       "    }\n",
       "\n",
       "    .dataframe thead th {\n",
       "        text-align: right;\n",
       "    }\n",
       "</style>\n",
       "<table border=\"1\" class=\"dataframe\">\n",
       "  <thead>\n",
       "    <tr style=\"text-align: right;\">\n",
       "      <th></th>\n",
       "      <th>id</th>\n",
       "      <th>release_date</th>\n",
       "      <th>movie</th>\n",
       "      <th>production_budget</th>\n",
       "      <th>domestic_gross</th>\n",
       "      <th>worldwide_gross</th>\n",
       "    </tr>\n",
       "  </thead>\n",
       "  <tbody>\n",
       "    <tr>\n",
       "      <th>0</th>\n",
       "      <td>1</td>\n",
       "      <td>Dec 18, 2009</td>\n",
       "      <td>Avatar</td>\n",
       "      <td>$425,000,000</td>\n",
       "      <td>$760,507,625</td>\n",
       "      <td>$2,776,345,279</td>\n",
       "    </tr>\n",
       "    <tr>\n",
       "      <th>1</th>\n",
       "      <td>2</td>\n",
       "      <td>May 20, 2011</td>\n",
       "      <td>Pirates of the Caribbean: On Stranger Tides</td>\n",
       "      <td>$410,600,000</td>\n",
       "      <td>$241,063,875</td>\n",
       "      <td>$1,045,663,875</td>\n",
       "    </tr>\n",
       "    <tr>\n",
       "      <th>2</th>\n",
       "      <td>3</td>\n",
       "      <td>Jun 7, 2019</td>\n",
       "      <td>Dark Phoenix</td>\n",
       "      <td>$350,000,000</td>\n",
       "      <td>$42,762,350</td>\n",
       "      <td>$149,762,350</td>\n",
       "    </tr>\n",
       "    <tr>\n",
       "      <th>3</th>\n",
       "      <td>4</td>\n",
       "      <td>May 1, 2015</td>\n",
       "      <td>Avengers: Age of Ultron</td>\n",
       "      <td>$330,600,000</td>\n",
       "      <td>$459,005,868</td>\n",
       "      <td>$1,403,013,963</td>\n",
       "    </tr>\n",
       "    <tr>\n",
       "      <th>4</th>\n",
       "      <td>5</td>\n",
       "      <td>Dec 15, 2017</td>\n",
       "      <td>Star Wars Ep. VIII: The Last Jedi</td>\n",
       "      <td>$317,000,000</td>\n",
       "      <td>$620,181,382</td>\n",
       "      <td>$1,316,721,747</td>\n",
       "    </tr>\n",
       "  </tbody>\n",
       "</table>\n",
       "</div>"
      ],
      "text/plain": [
       "   id  release_date                                        movie  \\\n",
       "0   1  Dec 18, 2009                                       Avatar   \n",
       "1   2  May 20, 2011  Pirates of the Caribbean: On Stranger Tides   \n",
       "2   3   Jun 7, 2019                                 Dark Phoenix   \n",
       "3   4   May 1, 2015                      Avengers: Age of Ultron   \n",
       "4   5  Dec 15, 2017            Star Wars Ep. VIII: The Last Jedi   \n",
       "\n",
       "  production_budget domestic_gross worldwide_gross  \n",
       "0      $425,000,000   $760,507,625  $2,776,345,279  \n",
       "1      $410,600,000   $241,063,875  $1,045,663,875  \n",
       "2      $350,000,000    $42,762,350    $149,762,350  \n",
       "3      $330,600,000   $459,005,868  $1,403,013,963  \n",
       "4      $317,000,000   $620,181,382  $1,316,721,747  "
      ]
     },
     "execution_count": 10,
     "metadata": {},
     "output_type": "execute_result"
    }
   ],
   "source": [
    "# Display the first 5 rows\n",
    "numbers.head()"
   ]
  },
  {
   "cell_type": "code",
   "execution_count": 11,
   "id": "7fc02e3e",
   "metadata": {},
   "outputs": [
    {
     "name": "stdout",
     "output_type": "stream",
     "text": [
      "<class 'pandas.core.frame.DataFrame'>\n",
      "RangeIndex: 5782 entries, 0 to 5781\n",
      "Data columns (total 6 columns):\n",
      " #   Column             Non-Null Count  Dtype \n",
      "---  ------             --------------  ----- \n",
      " 0   id                 5782 non-null   int64 \n",
      " 1   release_date       5782 non-null   object\n",
      " 2   movie              5782 non-null   object\n",
      " 3   production_budget  5782 non-null   object\n",
      " 4   domestic_gross     5782 non-null   object\n",
      " 5   worldwide_gross    5782 non-null   object\n",
      "dtypes: int64(1), object(5)\n",
      "memory usage: 271.2+ KB\n"
     ]
    }
   ],
   "source": [
    "# get info summary of the dataset\n",
    "numbers.info()"
   ]
  },
  {
   "cell_type": "markdown",
   "id": "b29469a1",
   "metadata": {},
   "source": [
    "From the numbers table, it can be seen that the table has 5782 and the columns have no missing values"
   ]
  },
  {
   "cell_type": "markdown",
   "id": "d65d0cd3",
   "metadata": {},
   "source": [
    "## Step 3: Data Preparations\n",
    "### data cleaning\n"
   ]
  },
  {
   "cell_type": "code",
   "execution_count": 12,
   "id": "927f8494",
   "metadata": {},
   "outputs": [
    {
     "data": {
      "text/plain": [
       "False    3387\n",
       "Name: count, dtype: int64"
      ]
     },
     "execution_count": 12,
     "metadata": {},
     "output_type": "execute_result"
    }
   ],
   "source": [
    "# checking for duplicates\n",
    "bom.duplicated().value_counts()"
   ]
  },
  {
   "cell_type": "code",
   "execution_count": 13,
   "id": "9b316f67",
   "metadata": {},
   "outputs": [
    {
     "data": {
      "text/plain": [
       "False    73856\n",
       "Name: count, dtype: int64"
      ]
     },
     "execution_count": 13,
     "metadata": {},
     "output_type": "execute_result"
    }
   ],
   "source": [
    "imdb.duplicated().value_counts()"
   ]
  },
  {
   "cell_type": "code",
   "execution_count": 14,
   "id": "7b80295a",
   "metadata": {},
   "outputs": [
    {
     "data": {
      "text/plain": [
       "False    5782\n",
       "Name: count, dtype: int64"
      ]
     },
     "execution_count": 14,
     "metadata": {},
     "output_type": "execute_result"
    }
   ],
   "source": [
    "numbers.duplicated().value_counts()"
   ]
  },
  {
   "cell_type": "markdown",
   "id": "57be13e9",
   "metadata": {},
   "source": [
    "From the above analysis we can see that the tables have no duplicated values"
   ]
  },
  {
   "cell_type": "code",
   "execution_count": 15,
   "id": "28e6d161",
   "metadata": {},
   "outputs": [
    {
     "data": {
      "text/plain": [
       "title                0\n",
       "studio               5\n",
       "domestic_gross      28\n",
       "foreign_gross     1350\n",
       "year                 0\n",
       "dtype: int64"
      ]
     },
     "execution_count": 15,
     "metadata": {},
     "output_type": "execute_result"
    }
   ],
   "source": [
    "# check missing values for BOM table\n",
    "bom.isnull().sum() "
   ]
  },
  {
   "cell_type": "code",
   "execution_count": 16,
   "id": "f988a003",
   "metadata": {},
   "outputs": [
    {
     "name": "stderr",
     "output_type": "stream",
     "text": [
      "C:\\Users\\oguda\\AppData\\Local\\Temp\\ipykernel_85152\\3345483797.py:4: FutureWarning: A value is trying to be set on a copy of a DataFrame or Series through chained assignment using an inplace method.\n",
      "The behavior will change in pandas 3.0. This inplace method will never work because the intermediate object on which we are setting values always behaves as a copy.\n",
      "\n",
      "For example, when doing 'df[col].method(value, inplace=True)', try using 'df.method({col: value}, inplace=True)' or df[col] = df[col].method(value) instead, to perform the operation inplace on the original object.\n",
      "\n",
      "\n",
      "  bom[col].fillna(\"Unknown\", inplace=True)\n",
      "C:\\Users\\oguda\\AppData\\Local\\Temp\\ipykernel_85152\\3345483797.py:6: FutureWarning: A value is trying to be set on a copy of a DataFrame or Series through chained assignment using an inplace method.\n",
      "The behavior will change in pandas 3.0. This inplace method will never work because the intermediate object on which we are setting values always behaves as a copy.\n",
      "\n",
      "For example, when doing 'df[col].method(value, inplace=True)', try using 'df.method({col: value}, inplace=True)' or df[col] = df[col].method(value) instead, to perform the operation inplace on the original object.\n",
      "\n",
      "\n",
      "  bom[col].fillna(0, inplace=True)\n"
     ]
    },
    {
     "data": {
      "text/plain": [
       "title             0\n",
       "studio            0\n",
       "domestic_gross    0\n",
       "foreign_gross     0\n",
       "year              0\n",
       "dtype: int64"
      ]
     },
     "execution_count": 16,
     "metadata": {},
     "output_type": "execute_result"
    }
   ],
   "source": [
    "# replace missing values with placeholders\n",
    "for col in bom.columns:\n",
    "    if str(bom[col].dtype) == \"object\":\n",
    "        bom[col].fillna(\"Unknown\", inplace=True)\n",
    "    else:\n",
    "        bom[col].fillna(0, inplace=True)\n",
    "\n",
    "bom.isna().sum()"
   ]
  },
  {
   "cell_type": "code",
   "execution_count": 17,
   "id": "e4595c1a",
   "metadata": {},
   "outputs": [
    {
     "data": {
      "text/plain": [
       "movie_id              0\n",
       "primary_title         0\n",
       "original_title        0\n",
       "start_year            0\n",
       "runtime_minutes    7620\n",
       "genres              804\n",
       "averagerating         0\n",
       "numvotes              0\n",
       "dtype: int64"
      ]
     },
     "execution_count": 17,
     "metadata": {},
     "output_type": "execute_result"
    }
   ],
   "source": [
    "# check missing values of imdb\n",
    "imdb.isnull().sum()"
   ]
  },
  {
   "cell_type": "code",
   "execution_count": 18,
   "id": "7d46041e",
   "metadata": {},
   "outputs": [
    {
     "name": "stderr",
     "output_type": "stream",
     "text": [
      "C:\\Users\\oguda\\AppData\\Local\\Temp\\ipykernel_85152\\1493801059.py:3: FutureWarning: A value is trying to be set on a copy of a DataFrame or Series through chained assignment using an inplace method.\n",
      "The behavior will change in pandas 3.0. This inplace method will never work because the intermediate object on which we are setting values always behaves as a copy.\n",
      "\n",
      "For example, when doing 'df[col].method(value, inplace=True)', try using 'df.method({col: value}, inplace=True)' or df[col] = df[col].method(value) instead, to perform the operation inplace on the original object.\n",
      "\n",
      "\n",
      "  imdb[col].fillna(\"Unknown\", inplace=True)\n",
      "C:\\Users\\oguda\\AppData\\Local\\Temp\\ipykernel_85152\\1493801059.py:5: FutureWarning: A value is trying to be set on a copy of a DataFrame or Series through chained assignment using an inplace method.\n",
      "The behavior will change in pandas 3.0. This inplace method will never work because the intermediate object on which we are setting values always behaves as a copy.\n",
      "\n",
      "For example, when doing 'df[col].method(value, inplace=True)', try using 'df.method({col: value}, inplace=True)' or df[col] = df[col].method(value) instead, to perform the operation inplace on the original object.\n",
      "\n",
      "\n",
      "  imdb[col].fillna(0, inplace=True)\n"
     ]
    },
    {
     "data": {
      "text/plain": [
       "movie_id           0\n",
       "primary_title      0\n",
       "original_title     0\n",
       "start_year         0\n",
       "runtime_minutes    0\n",
       "genres             0\n",
       "averagerating      0\n",
       "numvotes           0\n",
       "dtype: int64"
      ]
     },
     "execution_count": 18,
     "metadata": {},
     "output_type": "execute_result"
    }
   ],
   "source": [
    "for col in imdb.columns:\n",
    "    if str(imdb[col].dtype) == \"object\":\n",
    "        imdb[col].fillna(\"Unknown\", inplace=True)\n",
    "    else:\n",
    "        imdb[col].fillna(0, inplace=True)\n",
    "\n",
    "imdb.isna().sum()"
   ]
  },
  {
   "cell_type": "markdown",
   "id": "4ba48a0c",
   "metadata": {},
   "source": [
    "The above codes replaces the missing values with place holders, unknown for categorical and  zero for numerical columns. The reason for this is to maintain the original completness of the dataset without dropping valuable records."
   ]
  },
  {
   "cell_type": "code",
   "execution_count": 19,
   "id": "2ed4acba",
   "metadata": {},
   "outputs": [
    {
     "data": {
      "text/html": [
       "<div>\n",
       "<style scoped>\n",
       "    .dataframe tbody tr th:only-of-type {\n",
       "        vertical-align: middle;\n",
       "    }\n",
       "\n",
       "    .dataframe tbody tr th {\n",
       "        vertical-align: top;\n",
       "    }\n",
       "\n",
       "    .dataframe thead th {\n",
       "        text-align: right;\n",
       "    }\n",
       "</style>\n",
       "<table border=\"1\" class=\"dataframe\">\n",
       "  <thead>\n",
       "    <tr style=\"text-align: right;\">\n",
       "      <th></th>\n",
       "      <th>id</th>\n",
       "      <th>release_date</th>\n",
       "      <th>movie</th>\n",
       "      <th>production_budget</th>\n",
       "      <th>domestic_gross</th>\n",
       "      <th>worldwide_gross</th>\n",
       "    </tr>\n",
       "  </thead>\n",
       "  <tbody>\n",
       "    <tr>\n",
       "      <th>0</th>\n",
       "      <td>1</td>\n",
       "      <td>2009-12-18</td>\n",
       "      <td>Avatar</td>\n",
       "      <td>$425,000,000</td>\n",
       "      <td>$760,507,625</td>\n",
       "      <td>$2,776,345,279</td>\n",
       "    </tr>\n",
       "    <tr>\n",
       "      <th>1</th>\n",
       "      <td>2</td>\n",
       "      <td>2011-05-20</td>\n",
       "      <td>Pirates of the Caribbean: On Stranger Tides</td>\n",
       "      <td>$410,600,000</td>\n",
       "      <td>$241,063,875</td>\n",
       "      <td>$1,045,663,875</td>\n",
       "    </tr>\n",
       "    <tr>\n",
       "      <th>2</th>\n",
       "      <td>3</td>\n",
       "      <td>2019-06-07</td>\n",
       "      <td>Dark Phoenix</td>\n",
       "      <td>$350,000,000</td>\n",
       "      <td>$42,762,350</td>\n",
       "      <td>$149,762,350</td>\n",
       "    </tr>\n",
       "    <tr>\n",
       "      <th>3</th>\n",
       "      <td>4</td>\n",
       "      <td>2015-05-01</td>\n",
       "      <td>Avengers: Age of Ultron</td>\n",
       "      <td>$330,600,000</td>\n",
       "      <td>$459,005,868</td>\n",
       "      <td>$1,403,013,963</td>\n",
       "    </tr>\n",
       "    <tr>\n",
       "      <th>4</th>\n",
       "      <td>5</td>\n",
       "      <td>2017-12-15</td>\n",
       "      <td>Star Wars Ep. VIII: The Last Jedi</td>\n",
       "      <td>$317,000,000</td>\n",
       "      <td>$620,181,382</td>\n",
       "      <td>$1,316,721,747</td>\n",
       "    </tr>\n",
       "  </tbody>\n",
       "</table>\n",
       "</div>"
      ],
      "text/plain": [
       "   id release_date                                        movie  \\\n",
       "0   1   2009-12-18                                       Avatar   \n",
       "1   2   2011-05-20  Pirates of the Caribbean: On Stranger Tides   \n",
       "2   3   2019-06-07                                 Dark Phoenix   \n",
       "3   4   2015-05-01                      Avengers: Age of Ultron   \n",
       "4   5   2017-12-15            Star Wars Ep. VIII: The Last Jedi   \n",
       "\n",
       "  production_budget domestic_gross worldwide_gross  \n",
       "0      $425,000,000   $760,507,625  $2,776,345,279  \n",
       "1      $410,600,000   $241,063,875  $1,045,663,875  \n",
       "2      $350,000,000    $42,762,350    $149,762,350  \n",
       "3      $330,600,000   $459,005,868  $1,403,013,963  \n",
       "4      $317,000,000   $620,181,382  $1,316,721,747  "
      ]
     },
     "execution_count": 19,
     "metadata": {},
     "output_type": "execute_result"
    }
   ],
   "source": [
    "# convert release_date to datetime\n",
    "numbers[\"release_date\"] = pd.to_datetime(numbers[\"release_date\"])\n",
    "numbers.head()"
   ]
  },
  {
   "cell_type": "code",
   "execution_count": 20,
   "id": "3389c8ae",
   "metadata": {},
   "outputs": [],
   "source": [
    "# standardized column names for common columns\n",
    "imdb = imdb.rename(columns={\"primary_title\":\"title\"})\n",
    "numbers = numbers.rename(columns={\"movie\":\"title\"})"
   ]
  },
  {
   "cell_type": "code",
   "execution_count": 21,
   "id": "8302a02d",
   "metadata": {},
   "outputs": [],
   "source": [
    "# merge all the dataframes\n",
    "merge1 = pd.merge(imdb, numbers, on='title', how='inner')\n",
    "merge_df = pd.merge(merge1,bom, on='title', how='inner')\n"
   ]
  },
  {
   "cell_type": "code",
   "execution_count": 22,
   "id": "62bb49b3",
   "metadata": {},
   "outputs": [],
   "source": [
    "# crate a list of columns to drop\n",
    "columns = [\"original_title\", \"start_year\", \"id\", \"domestic_gross_y\", \"foreign_gross\"]\n",
    "# pass the list in the .drop method to drop the columns\n",
    "merge_df = merge_df.drop(columns=columns)\n",
    "\n"
   ]
  },
  {
   "cell_type": "code",
   "execution_count": 23,
   "id": "54694565",
   "metadata": {},
   "outputs": [],
   "source": [
    "# create a standardized column names\n",
    "merge_df = merge_df.rename(columns={'domestic_gross_x':'domestic_gross'})\n",
    "merge_df = merge_df.rename(columns={'averagerating':'average_rating'})\n",
    "merge_df = merge_df.rename(columns={'numvotes':'num_votes'})"
   ]
  },
  {
   "cell_type": "code",
   "execution_count": 24,
   "id": "ae20e0db",
   "metadata": {},
   "outputs": [],
   "source": [
    "# create a function that converts object to integer\n",
    "def converter(df,column_name):\n",
    "    # Remove $ and , before converting\n",
    "    df[column_name]=df[column_name].replace(\"[\\\\$,]\",\"\",regex=True).astype(int)\n",
    "    return \n",
    "\n",
    "# create a list of columns to convert \n",
    "column = [\"domestic_gross\",\"worldwide_gross\",\"production_budget\"]\n",
    "converter(merge_df,column)\n"
   ]
  },
  {
   "cell_type": "code",
   "execution_count": 25,
   "id": "f81562e0",
   "metadata": {},
   "outputs": [
    {
     "name": "stdout",
     "output_type": "stream",
     "text": [
      "<class 'pandas.core.frame.DataFrame'>\n",
      "RangeIndex: 1413 entries, 0 to 1412\n",
      "Data columns (total 12 columns):\n",
      " #   Column             Non-Null Count  Dtype         \n",
      "---  ------             --------------  -----         \n",
      " 0   movie_id           1413 non-null   object        \n",
      " 1   title              1413 non-null   object        \n",
      " 2   runtime_minutes    1413 non-null   float64       \n",
      " 3   genres             1413 non-null   object        \n",
      " 4   average_rating     1413 non-null   float64       \n",
      " 5   num_votes          1413 non-null   int64         \n",
      " 6   release_date       1413 non-null   datetime64[ns]\n",
      " 7   production_budget  1413 non-null   int32         \n",
      " 8   domestic_gross     1413 non-null   int32         \n",
      " 9   worldwide_gross    1413 non-null   int32         \n",
      " 10  studio             1413 non-null   object        \n",
      " 11  year               1413 non-null   int64         \n",
      "dtypes: datetime64[ns](1), float64(2), int32(3), int64(2), object(4)\n",
      "memory usage: 116.0+ KB\n"
     ]
    }
   ],
   "source": [
    "merge_df.info()"
   ]
  },
  {
   "cell_type": "markdown",
   "id": "74b1bc98",
   "metadata": {},
   "source": [
    "## Data analysis"
   ]
  },
  {
   "cell_type": "code",
   "execution_count": 26,
   "id": "ef26827c",
   "metadata": {},
   "outputs": [
    {
     "data": {
      "text/html": [
       "<div>\n",
       "<style scoped>\n",
       "    .dataframe tbody tr th:only-of-type {\n",
       "        vertical-align: middle;\n",
       "    }\n",
       "\n",
       "    .dataframe tbody tr th {\n",
       "        vertical-align: top;\n",
       "    }\n",
       "\n",
       "    .dataframe thead th {\n",
       "        text-align: right;\n",
       "    }\n",
       "</style>\n",
       "<table border=\"1\" class=\"dataframe\">\n",
       "  <thead>\n",
       "    <tr style=\"text-align: right;\">\n",
       "      <th></th>\n",
       "      <th>count</th>\n",
       "      <th>mean</th>\n",
       "    </tr>\n",
       "    <tr>\n",
       "      <th>year</th>\n",
       "      <th></th>\n",
       "      <th></th>\n",
       "    </tr>\n",
       "  </thead>\n",
       "  <tbody>\n",
       "    <tr>\n",
       "      <th>2018</th>\n",
       "      <td>111</td>\n",
       "      <td>8.057689e+07</td>\n",
       "    </tr>\n",
       "    <tr>\n",
       "      <th>2017</th>\n",
       "      <td>132</td>\n",
       "      <td>7.090809e+07</td>\n",
       "    </tr>\n",
       "    <tr>\n",
       "      <th>2013</th>\n",
       "      <td>149</td>\n",
       "      <td>6.877229e+07</td>\n",
       "    </tr>\n",
       "    <tr>\n",
       "      <th>2015</th>\n",
       "      <td>180</td>\n",
       "      <td>5.999189e+07</td>\n",
       "    </tr>\n",
       "    <tr>\n",
       "      <th>2014</th>\n",
       "      <td>155</td>\n",
       "      <td>5.882099e+07</td>\n",
       "    </tr>\n",
       "    <tr>\n",
       "      <th>2016</th>\n",
       "      <td>166</td>\n",
       "      <td>5.842007e+07</td>\n",
       "    </tr>\n",
       "    <tr>\n",
       "      <th>2012</th>\n",
       "      <td>149</td>\n",
       "      <td>5.699038e+07</td>\n",
       "    </tr>\n",
       "    <tr>\n",
       "      <th>2010</th>\n",
       "      <td>179</td>\n",
       "      <td>5.205774e+07</td>\n",
       "    </tr>\n",
       "    <tr>\n",
       "      <th>2011</th>\n",
       "      <td>192</td>\n",
       "      <td>4.675607e+07</td>\n",
       "    </tr>\n",
       "  </tbody>\n",
       "</table>\n",
       "</div>"
      ],
      "text/plain": [
       "      count          mean\n",
       "year                     \n",
       "2018    111  8.057689e+07\n",
       "2017    132  7.090809e+07\n",
       "2013    149  6.877229e+07\n",
       "2015    180  5.999189e+07\n",
       "2014    155  5.882099e+07\n",
       "2016    166  5.842007e+07\n",
       "2012    149  5.699038e+07\n",
       "2010    179  5.205774e+07\n",
       "2011    192  4.675607e+07"
      ]
     },
     "execution_count": 26,
     "metadata": {},
     "output_type": "execute_result"
    }
   ],
   "source": [
    "# mean domestic gross over the years \n",
    "mean_domestic_gross= (merge_df.groupby(\"year\")[\"domestic_gross\"]\n",
    "                      .agg([\"count\",\"mean\"])\n",
    "                      .sort_values(\"mean\", ascending=False))\n",
    "mean_domestic_gross"
   ]
  },
  {
   "cell_type": "code",
   "execution_count": 27,
   "id": "b8c26a4e",
   "metadata": {},
   "outputs": [
    {
     "data": {
      "image/png": "[encoded data removed]",
      "text/plain": [
       "<Figure size 1500x800 with 1 Axes>"
      ]
     },
     "metadata": {},
     "output_type": "display_data"
    }
   ],
   "source": [
    "# plot year vs mean domestic gross\n",
    "import matplotlib.ticker as ticker\n",
    "\n",
    "# set the style and size of the plot\n",
    "sns.set_style(\"darkgrid\")\n",
    "sns.set_theme(rc={\"figure.figsize\":(15,8)})\n",
    "\n",
    "# Plot mean domestic gross over the years\n",
    "sns.lineplot(data= mean_domestic_gross,\n",
    "             x=\"year\",\n",
    "             y=\"mean\",\n",
    "             errorbar=None\n",
    ")\n",
    "# Format the y-axis to include commas and dollar signs\n",
    "plt.gca().yaxis.set_major_formatter(ticker.StrMethodFormatter(\"{x:,.0f}\"))\n",
    "\n",
    "# Add titles and labels\n",
    "plt.title(\"Mean Domestic Gross over Time\")\n",
    "plt.xlabel(\"Year\")\n",
    "plt.ylabel(\"Mean Domestic Gross \")\n",
    "\n",
    "# Show the plot\n",
    "plt.show()\n",
    "\n",
    "\n"
   ]
  },
  {
   "cell_type": "markdown",
   "id": "8f164b2a",
   "metadata": {},
   "source": [
    "From this illustration,it is evident that there was a decline in mean domestic gross from 2010 to 2011,then a steady rise to 2013.It plateaued for a year then steadily dropped for 2years upto 2016.It then peaked upto 2018. In conclusion,its evident that domestically,the mean gross revenue ranges between 40M $ to 80M $"
   ]
  },
  {
   "cell_type": "code",
   "execution_count": 28,
   "id": "e0890968",
   "metadata": {},
   "outputs": [
    {
     "data": {
      "text/html": [
       "<div>\n",
       "<style scoped>\n",
       "    .dataframe tbody tr th:only-of-type {\n",
       "        vertical-align: middle;\n",
       "    }\n",
       "\n",
       "    .dataframe tbody tr th {\n",
       "        vertical-align: top;\n",
       "    }\n",
       "\n",
       "    .dataframe thead th {\n",
       "        text-align: right;\n",
       "    }\n",
       "</style>\n",
       "<table border=\"1\" class=\"dataframe\">\n",
       "  <thead>\n",
       "    <tr style=\"text-align: right;\">\n",
       "      <th></th>\n",
       "      <th>count</th>\n",
       "      <th>mean</th>\n",
       "    </tr>\n",
       "    <tr>\n",
       "      <th>year</th>\n",
       "      <th></th>\n",
       "      <th></th>\n",
       "    </tr>\n",
       "  </thead>\n",
       "  <tbody>\n",
       "    <tr>\n",
       "      <th>2018</th>\n",
       "      <td>111</td>\n",
       "      <td>1.954214e+08</td>\n",
       "    </tr>\n",
       "    <tr>\n",
       "      <th>2017</th>\n",
       "      <td>132</td>\n",
       "      <td>1.917472e+08</td>\n",
       "    </tr>\n",
       "    <tr>\n",
       "      <th>2013</th>\n",
       "      <td>149</td>\n",
       "      <td>1.749376e+08</td>\n",
       "    </tr>\n",
       "    <tr>\n",
       "      <th>2015</th>\n",
       "      <td>180</td>\n",
       "      <td>1.495704e+08</td>\n",
       "    </tr>\n",
       "    <tr>\n",
       "      <th>2014</th>\n",
       "      <td>155</td>\n",
       "      <td>1.489189e+08</td>\n",
       "    </tr>\n",
       "    <tr>\n",
       "      <th>2016</th>\n",
       "      <td>166</td>\n",
       "      <td>1.477160e+08</td>\n",
       "    </tr>\n",
       "    <tr>\n",
       "      <th>2012</th>\n",
       "      <td>149</td>\n",
       "      <td>1.424902e+08</td>\n",
       "    </tr>\n",
       "    <tr>\n",
       "      <th>2010</th>\n",
       "      <td>179</td>\n",
       "      <td>1.184780e+08</td>\n",
       "    </tr>\n",
       "    <tr>\n",
       "      <th>2011</th>\n",
       "      <td>192</td>\n",
       "      <td>1.166909e+08</td>\n",
       "    </tr>\n",
       "  </tbody>\n",
       "</table>\n",
       "</div>"
      ],
      "text/plain": [
       "      count          mean\n",
       "year                     \n",
       "2018    111  1.954214e+08\n",
       "2017    132  1.917472e+08\n",
       "2013    149  1.749376e+08\n",
       "2015    180  1.495704e+08\n",
       "2014    155  1.489189e+08\n",
       "2016    166  1.477160e+08\n",
       "2012    149  1.424902e+08\n",
       "2010    179  1.184780e+08\n",
       "2011    192  1.166909e+08"
      ]
     },
     "execution_count": 28,
     "metadata": {},
     "output_type": "execute_result"
    }
   ],
   "source": [
    "# mean worldwide gross over the years\n",
    "mean_worldwide_gross=(merge_df.groupby(\"year\")[\"worldwide_gross\"]\n",
    "                      .agg([\"count\",\"mean\"])\n",
    "                      .sort_values(\"mean\", ascending=False))\n",
    "mean_worldwide_gross"
   ]
  },
  {
   "cell_type": "code",
   "execution_count": 29,
   "id": "f9b0ee54",
   "metadata": {},
   "outputs": [
    {
     "data": {
      "image/png": "[encoded data removed]",
      "text/plain": [
       "<Figure size 1500x800 with 1 Axes>"
      ]
     },
     "metadata": {},
     "output_type": "display_data"
    }
   ],
   "source": [
    "# set the style and size of the plot\n",
    "sns.set_style(\"darkgrid\")\n",
    "sns.set_theme(rc={\"figure.figsize\":(15,8)})\n",
    "\n",
    "# Plot mean domestic gross over the years\n",
    "sns.lineplot(data= mean_worldwide_gross,\n",
    "             x=\"year\",\n",
    "             y=\"mean\",\n",
    "             errorbar=None\n",
    ")\n",
    "# Format the y-axis to include commas and dollar signs\n",
    "plt.gca().yaxis.set_major_formatter(ticker.StrMethodFormatter(\"{x:,.0f}\"))\n",
    "\n",
    "# Add titles and labels\n",
    "plt.title(\"Mean worldwide Gross over Time\")\n",
    "plt.xlabel(\"Year\")\n",
    "plt.ylabel(\"Mean worldwide Gross \")\n",
    "\n",
    "# Show the plot\n",
    "plt.show()\n",
    "\n",
    "\n"
   ]
  },
  {
   "cell_type": "markdown",
   "id": "af53caf5",
   "metadata": {},
   "source": [
    "From the above illustration,It is evident that  mean worlwide gross revenue plateaued for a year, then steadily rose up to 2013,dropped for a year, plateaued for another 2years then steadily peaked.In conclusion, The mean worldwide gross ranges between 100M $ upto 200M $"
   ]
  },
  {
   "cell_type": "code",
   "execution_count": 30,
   "id": "610d577b",
   "metadata": {},
   "outputs": [],
   "source": [
    "\n",
    "top5_genres_yearly=(merge_df.groupby([\"year\",\"genres\"])[\"worldwide_gross\"]\n",
    "                      .agg([\"count\",\"mean\"])\n",
    "                      .sort_values(['year', \"mean\"], ascending=[True, False]))\n",
    "top5_genres_worldwide= top5_genres_yearly.groupby(\"year\").head(2)\n",
    "\n"
   ]
  },
  {
   "cell_type": "code",
   "execution_count": 31,
   "id": "f057aea3",
   "metadata": {},
   "outputs": [
    {
     "data": {
      "text/html": [
       "<div>\n",
       "<style scoped>\n",
       "    .dataframe tbody tr th:only-of-type {\n",
       "        vertical-align: middle;\n",
       "    }\n",
       "\n",
       "    .dataframe tbody tr th {\n",
       "        vertical-align: top;\n",
       "    }\n",
       "\n",
       "    .dataframe thead th {\n",
       "        text-align: right;\n",
       "    }\n",
       "</style>\n",
       "<table border=\"1\" class=\"dataframe\">\n",
       "  <thead>\n",
       "    <tr style=\"text-align: right;\">\n",
       "      <th></th>\n",
       "      <th></th>\n",
       "      <th>count</th>\n",
       "      <th>mean</th>\n",
       "    </tr>\n",
       "    <tr>\n",
       "      <th>year</th>\n",
       "      <th>genres</th>\n",
       "      <th></th>\n",
       "      <th></th>\n",
       "    </tr>\n",
       "  </thead>\n",
       "  <tbody>\n",
       "    <tr>\n",
       "      <th rowspan=\"2\" valign=\"top\">2010</th>\n",
       "      <th>Adventure,Drama,Fantasy</th>\n",
       "      <td>1</td>\n",
       "      <td>3.005318e+08</td>\n",
       "    </tr>\n",
       "    <tr>\n",
       "      <th>Animation,Comedy,Family</th>\n",
       "      <td>1</td>\n",
       "      <td>2.515140e+08</td>\n",
       "    </tr>\n",
       "    <tr>\n",
       "      <th rowspan=\"2\" valign=\"top\">2011</th>\n",
       "      <th>Comedy,Mystery</th>\n",
       "      <td>1</td>\n",
       "      <td>2.544643e+08</td>\n",
       "    </tr>\n",
       "    <tr>\n",
       "      <th>Action,Adventure,Sci-Fi</th>\n",
       "      <td>4</td>\n",
       "      <td>1.980136e+08</td>\n",
       "    </tr>\n",
       "    <tr>\n",
       "      <th rowspan=\"2\" valign=\"top\">2012</th>\n",
       "      <th>Adventure,Family,Fantasy</th>\n",
       "      <td>1</td>\n",
       "      <td>3.030036e+08</td>\n",
       "    </tr>\n",
       "    <tr>\n",
       "      <th>Comedy,Fantasy</th>\n",
       "      <td>1</td>\n",
       "      <td>2.186657e+08</td>\n",
       "    </tr>\n",
       "    <tr>\n",
       "      <th rowspan=\"2\" valign=\"top\">2013</th>\n",
       "      <th>Adventure,Drama,Sport</th>\n",
       "      <td>1</td>\n",
       "      <td>4.007380e+08</td>\n",
       "    </tr>\n",
       "    <tr>\n",
       "      <th>Fantasy,Romance</th>\n",
       "      <td>1</td>\n",
       "      <td>4.007380e+08</td>\n",
       "    </tr>\n",
       "    <tr>\n",
       "      <th rowspan=\"2\" valign=\"top\">2014</th>\n",
       "      <th>Action,Biography,Drama</th>\n",
       "      <td>1</td>\n",
       "      <td>3.501264e+08</td>\n",
       "    </tr>\n",
       "    <tr>\n",
       "      <th>Action,Adventure,Comedy</th>\n",
       "      <td>1</td>\n",
       "      <td>3.331721e+08</td>\n",
       "    </tr>\n",
       "    <tr>\n",
       "      <th rowspan=\"2\" valign=\"top\">2015</th>\n",
       "      <th>Biography,Documentary,History</th>\n",
       "      <td>1</td>\n",
       "      <td>3.564617e+08</td>\n",
       "    </tr>\n",
       "    <tr>\n",
       "      <th>Family</th>\n",
       "      <td>1</td>\n",
       "      <td>3.564617e+08</td>\n",
       "    </tr>\n",
       "    <tr>\n",
       "      <th rowspan=\"2\" valign=\"top\">2016</th>\n",
       "      <th>Animation,Comedy,Family</th>\n",
       "      <td>1</td>\n",
       "      <td>2.703290e+08</td>\n",
       "    </tr>\n",
       "    <tr>\n",
       "      <th>Action,Adventure,Sci-Fi</th>\n",
       "      <td>6</td>\n",
       "      <td>2.278248e+08</td>\n",
       "    </tr>\n",
       "    <tr>\n",
       "      <th rowspan=\"2\" valign=\"top\">2017</th>\n",
       "      <th>Documentary,Drama,Sport</th>\n",
       "      <td>1</td>\n",
       "      <td>4.125634e+08</td>\n",
       "    </tr>\n",
       "    <tr>\n",
       "      <th>Sci-Fi</th>\n",
       "      <td>1</td>\n",
       "      <td>4.125634e+08</td>\n",
       "    </tr>\n",
       "    <tr>\n",
       "      <th rowspan=\"2\" valign=\"top\">2018</th>\n",
       "      <th>Action,Adventure,Sci-Fi</th>\n",
       "      <td>6</td>\n",
       "      <td>3.515528e+08</td>\n",
       "    </tr>\n",
       "    <tr>\n",
       "      <th>Action,Adventure,Animation</th>\n",
       "      <td>2</td>\n",
       "      <td>3.045364e+08</td>\n",
       "    </tr>\n",
       "  </tbody>\n",
       "</table>\n",
       "</div>"
      ],
      "text/plain": [
       "                                    count          mean\n",
       "year genres                                            \n",
       "2010 Adventure,Drama,Fantasy            1  3.005318e+08\n",
       "     Animation,Comedy,Family            1  2.515140e+08\n",
       "2011 Comedy,Mystery                     1  2.544643e+08\n",
       "     Action,Adventure,Sci-Fi            4  1.980136e+08\n",
       "2012 Adventure,Family,Fantasy           1  3.030036e+08\n",
       "     Comedy,Fantasy                     1  2.186657e+08\n",
       "2013 Adventure,Drama,Sport              1  4.007380e+08\n",
       "     Fantasy,Romance                    1  4.007380e+08\n",
       "2014 Action,Biography,Drama             1  3.501264e+08\n",
       "     Action,Adventure,Comedy            1  3.331721e+08\n",
       "2015 Biography,Documentary,History      1  3.564617e+08\n",
       "     Family                             1  3.564617e+08\n",
       "2016 Animation,Comedy,Family            1  2.703290e+08\n",
       "     Action,Adventure,Sci-Fi            6  2.278248e+08\n",
       "2017 Documentary,Drama,Sport            1  4.125634e+08\n",
       "     Sci-Fi                             1  4.125634e+08\n",
       "2018 Action,Adventure,Sci-Fi            6  3.515528e+08\n",
       "     Action,Adventure,Animation         2  3.045364e+08"
      ]
     },
     "execution_count": 31,
     "metadata": {},
     "output_type": "execute_result"
    }
   ],
   "source": [
    "top5_genres_yearly2= (merge_df.groupby([\"year\",\"genres\"])[\"domestic_gross\"]\n",
    "                      .agg([\"count\",\"mean\"])\n",
    "                      .sort_values(['year', \"mean\"], ascending=[True, False]))\n",
    "top5_genres_domestic= top5_genres_yearly2.groupby(\"year\").head(2)\n",
    "top5_genres_domestic\n"
   ]
  },
  {
   "cell_type": "code",
   "execution_count": null,
   "id": "d3ef5c00",
   "metadata": {},
   "outputs": [],
   "source": []
  }
 ],
 "metadata": {
  "kernelspec": {
   "display_name": "base",
   "language": "python",
   "name": "python3"
  },
  "language_info": {
   "codemirror_mode": {
    "name": "ipython",
    "version": 3
   },
   "file_extension": ".py",
   "mimetype": "text/x-python",
   "name": "python",
   "nbconvert_exporter": "python",
   "pygments_lexer": "ipython3",
   "version": "3.12.7"
  }
 },
 "nbformat": 4,
 "nbformat_minor": 5
}
